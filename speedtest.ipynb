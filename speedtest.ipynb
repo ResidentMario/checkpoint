{
 "cells": [
  {
   "cell_type": "code",
   "execution_count": 1,
   "metadata": {
    "collapsed": true
   },
   "outputs": [],
   "source": [
    "import pandas as pd\n",
    "from checkpoint import checkpoint\n",
    "collisions = pd.read_csv(\"https://data.cityofnewyork.us/api/views/h9gi-nx95/rows.csv?accessType=DOWNLOAD\")"
   ]
  },
  {
   "cell_type": "code",
   "execution_count": 2,
   "metadata": {
    "collapsed": true
   },
   "outputs": [],
   "source": [
    "%load_ext autoreload\n",
    "%autoreload 2"
   ]
  },
  {
   "cell_type": "code",
   "execution_count": 60,
   "metadata": {
    "collapsed": false
   },
   "outputs": [],
   "source": [
    "checkpoint.enable()"
   ]
  },
  {
   "cell_type": "code",
   "execution_count": 4,
   "metadata": {
    "collapsed": false,
    "scrolled": true
   },
   "outputs": [
    {
     "data": {
      "text/plain": [
       "910980"
      ]
     },
     "execution_count": 4,
     "metadata": {},
     "output_type": "execute_result"
    }
   ],
   "source": [
    "len(collisions)"
   ]
  },
  {
   "cell_type": "code",
   "execution_count": 5,
   "metadata": {
    "collapsed": true
   },
   "outputs": [],
   "source": [
    "collisions_ext = pd.concat([collisions[['DATE', 'LOCATION']], collisions[['DATE', 'LOCATION']]])"
   ]
  },
  {
   "cell_type": "code",
   "execution_count": 6,
   "metadata": {
    "collapsed": false
   },
   "outputs": [
    {
     "data": {
      "text/plain": [
       "1821960"
      ]
     },
     "execution_count": 6,
     "metadata": {},
     "output_type": "execute_result"
    }
   ],
   "source": [
    "len(collisions_ext)"
   ]
  },
  {
   "cell_type": "code",
   "execution_count": 40,
   "metadata": {
    "collapsed": false
   },
   "outputs": [
    {
     "name": "stdout",
     "output_type": "stream",
     "text": [
      "Wall time: 20 ms\n",
      "Wall time: 194 ms\n",
      "Wall time: 1.92 s\n",
      "Wall time: 19.3 s\n",
      "Wall time: 3min 16s\n"
     ]
    }
   ],
   "source": [
    "%time collisions_ext['DATE'][:100].map(lambda d: pd.to_datetime(d))\n",
    "%time collisions_ext['DATE'][:1000].map(lambda d: pd.to_datetime(d))\n",
    "%time collisions_ext['DATE'][:10000].map(lambda d: pd.to_datetime(d))\n",
    "%time collisions_ext['DATE'][:100000].map(lambda d: pd.to_datetime(d))\n",
    "%time collisions_ext['DATE'][:1000000].map(lambda d: pd.to_datetime(d))\n",
    "pass"
   ]
  },
  {
   "cell_type": "code",
   "execution_count": 41,
   "metadata": {
    "collapsed": false
   },
   "outputs": [
    {
     "name": "stdout",
     "output_type": "stream",
     "text": [
      "Wall time: 21 ms\n",
      "Wall time: 196 ms\n",
      "Wall time: 1.95 s\n",
      "Wall time: 19.4 s\n",
      "Wall time: 3min 14s\n"
     ]
    }
   ],
   "source": [
    "%time collisions_ext['DATE'][:100].safe_map(lambda d: pd.to_datetime(d))\n",
    "%time collisions_ext['DATE'][:1000].safe_map(lambda d: pd.to_datetime(d))\n",
    "%time collisions_ext['DATE'][:10000].safe_map(lambda d: pd.to_datetime(d))\n",
    "%time collisions_ext['DATE'][:100000].map(lambda d: pd.to_datetime(d))\n",
    "%time collisions_ext['DATE'][:1000000].map(lambda d: pd.to_datetime(d))\n",
    "pass"
   ]
  },
  {
   "cell_type": "code",
   "execution_count": 10,
   "metadata": {
    "collapsed": false
   },
   "outputs": [
    {
     "name": "stdout",
     "output_type": "stream",
     "text": [
      "Wall time: 65 ms\n",
      "Wall time: 262 ms\n",
      "Wall time: 2.26 s\n",
      "Wall time: 22.1 s\n",
      "Wall time: 3min 40s\n"
     ]
    }
   ],
   "source": [
    "%time collisions_ext[['DATE', 'LOCATION']][:100].apply(lambda srs: pd.to_datetime(srs['DATE']), axis='columns')\n",
    "%time collisions_ext[['DATE', 'LOCATION']][:1000].apply(lambda srs: pd.to_datetime(srs['DATE']), axis='columns')\n",
    "%time collisions_ext[['DATE', 'LOCATION']][:10000].apply(lambda srs: pd.to_datetime(srs['DATE']), axis='columns')\n",
    "%time collisions_ext[['DATE', 'LOCATION']][:100000].apply(lambda srs: pd.to_datetime(srs['DATE']), axis='columns')\n",
    "%time collisions_ext[['DATE', 'LOCATION']][:1000000].apply(lambda srs: pd.to_datetime(srs['DATE']), axis='columns')\n",
    "pass"
   ]
  },
  {
   "cell_type": "code",
   "execution_count": 22,
   "metadata": {
    "collapsed": false
   },
   "outputs": [
    {
     "name": "stdout",
     "output_type": "stream",
     "text": [
      "Wall time: 62 ms\n",
      "Wall time: 326 ms\n",
      "Wall time: 2.84 s\n",
      "Wall time: 28.3 s\n",
      "Wall time: 4min 41s\n"
     ]
    }
   ],
   "source": [
    "%time collisions_ext[['DATE', 'LOCATION']][:100].safe_apply(lambda srs: pd.to_datetime(srs['DATE']), axis='columns')\n",
    "%time collisions_ext[['DATE', 'LOCATION']][:1000].safe_apply(lambda srs: pd.to_datetime(srs['DATE']), axis='columns')\n",
    "%time collisions_ext[['DATE', 'LOCATION']][:10000].safe_apply(lambda srs: pd.to_datetime(srs['DATE']), axis='columns')\n",
    "%time collisions_ext[['DATE', 'LOCATION']][:100000].safe_apply(lambda srs: pd.to_datetime(srs['DATE']), axis='columns')\n",
    "%time collisions_ext[['DATE', 'LOCATION']][:1000000].safe_apply(lambda srs: pd.to_datetime(srs['DATE']), axis='columns')\n",
    "pass"
   ]
  },
  {
   "cell_type": "code",
   "execution_count": 55,
   "metadata": {
    "collapsed": false
   },
   "outputs": [
    {
     "data": {
      "text/plain": [
       "<matplotlib.text.Text at 0x1fdbe7b8>"
      ]
     },
     "execution_count": 55,
     "metadata": {},
     "output_type": "execute_result"
    },
    {
     "data": {
      "image/png": "[encoded data removed]",
      "text/plain": [
       "<matplotlib.figure.Figure at 0x1fbeef98>"
      ]
     },
     "metadata": {},
     "output_type": "display_data"
    }
   ],
   "source": [
    "import matplotlib.pyplot as plt\n",
    "%matplotlib inline\n",
    "\n",
    "\n",
    "l1, = plt.plot([100, 1000, 10000, 100000, 1000000], [0.065, 0.262, 2.26, 22.1, 3*60+40], label='pd.DataFrame.apply')\n",
    "l2, = plt.plot([100, 1000, 10000, 100000, 1000000], [0.062, 0.326, 2.84, 28.3, 4*60+41], label='pd.DataFrame.safe_apply')\n",
    "# ax = plt.gca()\n",
    "# ax.set_xscale(\"log\")\n",
    "# ax.set_yscale(\"log\")\n",
    "plt.legend(handles=[l1, l2], loc=2)\n",
    "plt.title(\"pd.to_datetime\")\n",
    "plt.xlabel(\"Executions\")\n",
    "plt.ylabel(\"Seconds\")"
   ]
  },
  {
   "cell_type": "code",
   "execution_count": 47,
   "metadata": {
    "collapsed": false
   },
   "outputs": [
    {
     "data": {
      "text/plain": [
       "(0, 300)"
      ]
     },
     "execution_count": 47,
     "metadata": {},
     "output_type": "execute_result"
    },
    {
     "data": {
      "image/png": "[encoded data removed]",
      "text/plain": [
       "<matplotlib.figure.Figure at 0x1ed81278>"
      ]
     },
     "metadata": {},
     "output_type": "display_data"
    }
   ],
   "source": [
    "import matplotlib.pyplot as plt\n",
    "%matplotlib inline\n",
    "\n",
    "\n",
    "l1, = plt.plot([100, 1000, 10000, 100000, 1000000], [0.020, 0.194, 1.92, 19.3, 3*60+16], label='pd.Series.map')\n",
    "l2, = plt.plot([100, 1000, 10000, 100000, 1000000], [0.021, 0.196, 1.95, 19.4, 3*60+14], label='pd.Series.safe_map')\n",
    "plt.legend(handles=[l1, l2], loc=2)\n",
    "plt.title(\"pd.to_datetime\")\n",
    "plt.xlabel(\"Executions\")\n",
    "plt.ylabel(\"Seconds\")\n",
    "axes = plt.gca()\n",
    "axes.set_ylim([0,300])"
   ]
  }
 ],
 "metadata": {
  "kernelspec": {
   "display_name": "Python 3",
   "language": "python",
   "name": "python3"
  },
  "language_info": {
   "codemirror_mode": {
    "name": "ipython",
    "version": 3
   },
   "file_extension": ".py",
   "mimetype": "text/x-python",
   "name": "python",
   "nbconvert_exporter": "python",
   "pygments_lexer": "ipython3",
   "version": "3.5.2"
  }
 },
 "nbformat": 4,
 "nbformat_minor": 0
}
